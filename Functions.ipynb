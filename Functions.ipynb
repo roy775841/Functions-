{
  "nbformat": 4,
  "nbformat_minor": 0,
  "metadata": {
    "colab": {
      "provenance": []
    },
    "kernelspec": {
      "name": "python3",
      "display_name": "Python 3"
    },
    "language_info": {
      "name": "python"
    }
  },
  "cells": [
    {
      "cell_type": "markdown",
      "source": [
        "1. What is the difference between a function and a method in Python?\n",
        "  -  Function: A standalone block of code that can be called independently. It is not associated with any particular object or class.\n",
        "\n",
        " Method: A block of code that is part of a class and is associated with an instance of that class. It has access to the instance's attributes and can modify its state\n",
        "\n",
        "\n",
        " 2. Explain the concept of function arguments and parameters in Python.\n",
        "   - In Python, parameters are the variables defined in a function's definition, while arguments are the values passed to the function when it's called.\n",
        "\n",
        "Parameters\n",
        "\n",
        "1. Defined in the function definition: Parameters are specified in the function definition and are used to receive the values passed to the function.\n",
        "2. Variables: Parameters are variables that are local to the function and can be used within the function.\n",
        "\n",
        "Arguments\n",
        "\n",
        "1. Passed to the function: Arguments are the values passed to the function when it's called.\n",
        "2. Assigned to parameters: When a function is called, the arguments are assigned to the corresponding parameters\n",
        "\n",
        "\n",
        "3. What are the different ways to define and call a function in Python?\n",
        "  - ython provides several ways to define and call functions. Here are some of the most common methods:\n",
        "\n",
        "Defining Functions\n",
        "\n",
        "1. Simple function definition: def function_name(parameters):\n",
        "2. Function with default arguments: def function_name(parameter=default_value):\n",
        "3. Function with variable-length arguments: def function_name(*args) or def function_name(**kwargs)\n",
        "4. Lambda function: function_name = lambda parameters: expression\n",
        "\n",
        "\n",
        "\n",
        "4. What is the purpose of the return statement in a Python function?\n",
        "  -\n",
        "The return statement in a Python function is used to:\n",
        "\n",
        "1. Exit the function: When a return statement is encountered, the function execution is stopped, and control is passed back to the caller.\n",
        "2. Return a value: The return statement can specify a value to be returned to the caller, which can then be used in the calling code.\n",
        "\n",
        "Example\n",
        "\n",
        "def add(a, b):\n",
        "    result = a + b\n",
        "    return result\n",
        "\n",
        "result = add(2, 3)\n",
        "print(result)  # Output: 5\n",
        "\n",
        "\n",
        "\n",
        "5. What are iterators in Python and how do they differ from iterables ?\n",
        "  - In Python, iterables and iterators are two related but distinct concepts.\n",
        "\n",
        "Iterables\n",
        "\n",
        "1. Objects that can be iterated: Iterables are objects that can be iterated over, such as lists, tuples, dictionaries, and sets.\n",
        "2. Can be looped over: Iterables can be looped over using a for loop or other iteration constructs.\n",
        "\n",
        "Iterators\n",
        "\n",
        "1. Objects that keep track of iteration state: Iterators are objects that keep track of the current position in an iterable and can be used to retrieve the next item.\n",
        "2. Return items one at a time: Iterators return items one at a time, allowing for efficient iteration over large datasets.\n",
        "\n",
        "\n",
        "\n",
        "6. Explain the concept of generators in Python and how they are defined .\n",
        "  - In Python, generators are a type of iterable that can be used to generate a sequence of values on-the-fly, rather than storing them all in memory at once.\n",
        "\n",
        "How Generators Work\n",
        "\n",
        "1. Defined using functions: Generators are defined using functions that contain the yield keyword.\n",
        "2. Yield values: When a generator function is called, it returns an iterator that yields values one at a time.\n",
        "3. State is preserved: The generator function remembers its state between calls to next(), allowing it to pick up where it left off.\n",
        "   \n",
        "\n",
        "7.  What are the advantages of using generators over regular functions?\n",
        "  -\n",
        "Generators have several advantages over regular functions:\n",
        "\n",
        "1. Memory Efficiency: Generators use less memory because they only generate values as needed, rather than storing all values in memory at once.\n",
        "2. Lazy Evaluation: Generators only evaluate the next value when requested, which can improve performance and reduce unnecessary computation.\n",
        "3. Flexibility: Generators can be used to implement complex iteration logic and can be easily composed together.\n",
        "4. Improved Performance: Generators can improve performance by avoiding the need to store large datasets in memory and by reducing unnecessary computation.\n",
        "\n",
        "\n",
        "8.  What is a lambda function in Python and when is it typically used ?\n",
        "  - A lambda function, also known as an anonymous function, is a small, one-line function that can be defined inline within a larger expression.\n",
        "\n",
        "Syntax\n",
        "\n",
        "The syntax for a lambda function is:\n",
        "\n",
        "lambda arguments: expression\n",
        "\n",
        "\n",
        " Lambda functions are typically used:\n",
        "\n",
        "1. One-time use: When a function is only needed once, a lambda function can be defined inline.\n",
        "2. Simple operations: Lambda functions are suitable for simple operations that don't require complex logic.\n",
        "3. Higher-order functions: Lambda functions are often used as arguments to higher-order functions, such as map(), filter(), and reduce().\n",
        "\n",
        "\n",
        "\n",
        "9. Explain the purpose and usage of the map() function in Python.\n",
        "  - purpose of the map() Function\n",
        "\n",
        "The map() function in Python is a built-in function that applies a given function to each item of an iterable (such as a list, tuple, or string) and returns a map object.\n",
        "\n",
        "Syntax\n",
        "\n",
        "The syntax for the map() function is:\n",
        "\n",
        "map(function, iterable)\n",
        "\n",
        "\n",
        "Usage\n",
        "\n",
        "The map() function is used to:\n",
        "\n",
        "1. Apply a transformation: Apply a function to each item of an iterable and return a new iterable with the transformed values.\n",
        "2. Simplify code: Simplify code by avoiding the need for explicit loops.\n",
        "\n",
        "\n",
        "\n",
        "10.  What is the difference between map(), reduce(), and filter()` functions in Python?\n",
        "  -  The map(), reduce(), and filter() functions in Python are three important functions that can be used to process iterables. Here's a brief overview of each function:\n",
        "\n",
        "map() Function\n",
        "\n",
        "1. Applies a function: map() applies a given function to each item of an iterable.\n",
        "2. Returns a map object: map() returns a map object, which is an iterator.\n",
        "3. Use case: Use map() when you need to apply a transformation to each item of an iterable.\n",
        "\n",
        "filter() Function\n",
        "\n",
        "1. Filters items: filter() filters items from an iterable based on a given function.\n",
        "2. Returns a filter object: filter() returns a filter object, which is an iterator.\n",
        "3. Use case: Use filter() when you need to select a subset of items from an iterable.\n",
        "\n",
        "reduce() Function\n",
        "\n",
        "1. Applies a function cumulatively: reduce() applies a given function cumulatively to the items of an iterable.\n",
        "2. Returns a single value: reduce() returns a single value, which is the result of the cumulative application of the function.\n",
        "3. Use case: Use reduce() when you need to compute a single value from an iterable.\n",
        "\n",
        "\n",
        "\n"
      ],
      "metadata": {
        "id": "z6spSmuHIysk"
      }
    },
    {
      "cell_type": "code",
      "execution_count": 4,
      "metadata": {
        "colab": {
          "base_uri": "https://localhost:8080/"
        },
        "id": "TiJ5rnM9IosH",
        "outputId": "f6d10eea-c630-4ac1-8ec0-ec8cdd13a5ef"
      },
      "outputs": [
        {
          "output_type": "stream",
          "name": "stdout",
          "text": [
            "30\n"
          ]
        }
      ],
      "source": [
        "# 1.  Write a Python function that takes a list of numbers as input and returns the sum of all even numbers in the list .\n",
        "def sum_even_numbers(numbers):\n",
        "    sum_even = 0\n",
        "    for num in numbers:\n",
        "        if num % 2 == 0:\n",
        "            sum_even += num\n",
        "    return sum_even\n",
        "\n",
        "numbers = [1, 2, 3, 4, 5, 6, 7, 8, 9, 10]\n",
        "result = sum_even_numbers(numbers)\n",
        "print(result)"
      ]
    },
    {
      "cell_type": "code",
      "metadata": {
        "colab": {
          "base_uri": "https://localhost:8080/"
        },
        "id": "77fb9d2c",
        "outputId": "a7162d05-055c-4cb7-9997-1a168e49c147"
      },
      "source": [
        "# 2.Create a Python function that accepts a string and returns the reverse of that string.\n",
        "def reverse_string(input_string):\n",
        "  \"\"\"\n",
        "  Reverses a given string.\n",
        "\n",
        "  Args:\n",
        "    input_string: The string to be reversed.\n",
        "\n",
        "  Returns:\n",
        "    The reversed string.\n",
        "  \"\"\"\n",
        "  return input_string[::-1]\n",
        "\n",
        "# Example usage:\n",
        "my_string = \"Hello, World!\"\n",
        "reversed_string = reverse_string(my_string)\n",
        "print(reversed_string)"
      ],
      "execution_count": 14,
      "outputs": [
        {
          "output_type": "stream",
          "name": "stdout",
          "text": [
            "!dlroW ,olleH\n"
          ]
        }
      ]
    },
    {
      "cell_type": "code",
      "metadata": {
        "colab": {
          "base_uri": "https://localhost:8080/"
        },
        "id": "e36e6d28",
        "outputId": "1507ef4f-7649-46bf-d09f-7f2c086bcc92"
      },
      "source": [
        "# 3. Implement a Python function that takes a list of integers and returns a new list containing the squares of each number .\n",
        "def square_numbers(numbers):\n",
        "  \"\"\"\n",
        "  Takes a list of integers and returns a new list containing the squares of each number.\n",
        "\n",
        "  Args:\n",
        "    numbers: A list of integers.\n",
        "\n",
        "  Returns:\n",
        "    A new list containing the squares of each number in the input list.\n",
        "  \"\"\"\n",
        "  squared_numbers = [number ** 2 for number in numbers]\n",
        "  return squared_numbers\n",
        "\n",
        "# Example usage\n",
        "my_list = [1, 2, 3, 4, 5]\n",
        "squared_list = square_numbers(my_list)\n",
        "print(squared_list)"
      ],
      "execution_count": 13,
      "outputs": [
        {
          "output_type": "stream",
          "name": "stdout",
          "text": [
            "[1, 4, 9, 16, 25]\n"
          ]
        }
      ]
    },
    {
      "cell_type": "code",
      "source": [
        "# 4.  Write a Python function that checks if a given number is prime or not from 1 to 200.\n",
        "\n",
        "# Check for prime numbers from 1 to 200\n",
        "prime_numbers = [number for number in range(1, 201) if is_prime(number)]\n",
        "print(\"Prime numbers from 1 to 200:\", prime_numbers)"
      ],
      "metadata": {
        "colab": {
          "base_uri": "https://localhost:8080/"
        },
        "id": "D3MD1Sfg_t-E",
        "outputId": "d3d79cb8-b87a-4081-8d33-b8acced81861"
      },
      "execution_count": 12,
      "outputs": [
        {
          "output_type": "stream",
          "name": "stdout",
          "text": [
            "Prime numbers from 1 to 200: [2, 3, 5, 7, 11, 13, 17, 19, 23, 29, 31, 37, 41, 43, 47, 53, 59, 61, 67, 71, 73, 79, 83, 89, 97, 101, 103, 107, 109, 113, 127, 131, 137, 139, 149, 151, 157, 163, 167, 173, 179, 181, 191, 193, 197, 199]\n"
          ]
        }
      ]
    },
    {
      "cell_type": "code",
      "metadata": {
        "colab": {
          "base_uri": "https://localhost:8080/"
        },
        "id": "b773171d",
        "outputId": "8702de0b-33a9-4c9c-815c-4fddce7785cc"
      },
      "source": [
        "# 5.Create an iterator class in Python that generates the Fibonacci sequence up to a specified number of terms .\n",
        "class FibonacciIterator:\n",
        "    \"\"\"\n",
        "    An iterator class that generates the Fibonacci sequence up to a specified number of terms.\n",
        "    \"\"\"\n",
        "    def __init__(self, num_terms):\n",
        "        self.num_terms = num_terms\n",
        "        self.current_term = 0\n",
        "        self.a = 0\n",
        "        self.b = 1\n",
        "\n",
        "    def __iter__(self):\n",
        "        return self\n",
        "\n",
        "    def __next__(self):\n",
        "        if self.current_term < self.num_terms:\n",
        "            if self.current_term == 0:\n",
        "                self.current_term += 1\n",
        "                return self.a\n",
        "            elif self.current_term == 1:\n",
        "                self.current_term += 1\n",
        "                return self.b\n",
        "            else:\n",
        "                next_fib = self.a + self.b\n",
        "                self.a = self.b\n",
        "                self.b = next_fib\n",
        "                self.current_term += 1\n",
        "                return next_fib\n",
        "        else:\n",
        "            raise StopIteration\n",
        "\n",
        "# Example usage:\n",
        "fib_iterator = FibonacciIterator(10)\n",
        "for number in fib_iterator:\n",
        "    print(number)"
      ],
      "execution_count": 15,
      "outputs": [
        {
          "output_type": "stream",
          "name": "stdout",
          "text": [
            "0\n",
            "1\n",
            "1\n",
            "2\n",
            "3\n",
            "5\n",
            "8\n",
            "13\n",
            "21\n",
            "34\n"
          ]
        }
      ]
    },
    {
      "cell_type": "code",
      "metadata": {
        "colab": {
          "base_uri": "https://localhost:8080/"
        },
        "id": "09ef20f5",
        "outputId": "39477307-36b5-42be-a49c-9110dcdbd735"
      },
      "source": [
        "# 6.Write a generator function in Python that yields the powers of 2 up to a given exponent\n",
        "def powers_of_two(exponent):\n",
        "\n",
        "  for i in range(exponent + 1):\n",
        "    yield 2 ** i\n",
        "\n",
        "# Example usage:\n",
        "for power in powers_of_two(5):\n",
        "  print(power)"
      ],
      "execution_count": 16,
      "outputs": [
        {
          "output_type": "stream",
          "name": "stdout",
          "text": [
            "1\n",
            "2\n",
            "4\n",
            "8\n",
            "16\n",
            "32\n"
          ]
        }
      ]
    },
    {
      "cell_type": "code",
      "metadata": {
        "colab": {
          "base_uri": "https://localhost:8080/"
        },
        "id": "893d78d8",
        "outputId": "a9a1191c-ec16-4891-9427-36049a34d201"
      },
      "source": [
        "# 7. Implement a generator function that reads a file line by line and yields each line as a string.\n",
        "def read_file_line_by_line(filepath):\n",
        "  \"\"\"\n",
        "  A generator function that reads a file line by line and yields each line as a string.\n",
        "\n",
        "  Args:\n",
        "    filepath: The path to the file to read.\n",
        "\n",
        "  Yields:\n",
        "    Each line of the file as a string.\n",
        "  \"\"\"\n",
        "  with open(filepath, 'r') as f:\n",
        "    for line in f:\n",
        "      yield line.strip() # .strip() removes leading/trailing whitespace, including newline characters\n",
        "\n",
        "# Example usage:\n",
        "for line in read_file_line_by_line(\"sample_file.txt\"):\n",
        "  print(line)"
      ],
      "execution_count": 18,
      "outputs": [
        {
          "output_type": "stream",
          "name": "stdout",
          "text": [
            "This is the first line.\n",
            "This is the second line.\n",
            "And this is the third line.\n"
          ]
        }
      ]
    },
    {
      "cell_type": "code",
      "metadata": {
        "colab": {
          "base_uri": "https://localhost:8080/"
        },
        "id": "4857c580",
        "outputId": "6579fcca-5800-4520-a629-bc2741c54bd3"
      },
      "source": [
        "# 8. Use a lambda function in Python to sort a list of tuples based on the second element of each tuple\n",
        "list_of_tuples = [(1, 'b'), (3, 'a'), (2, 'c')]\n",
        "\n",
        "# Sort the list of tuples based on the second element using a lambda function\n",
        "sorted_list = sorted(list_of_tuples, key=lambda item: item[1])\n",
        "\n",
        "print(sorted_list)"
      ],
      "execution_count": 19,
      "outputs": [
        {
          "output_type": "stream",
          "name": "stdout",
          "text": [
            "[(3, 'a'), (1, 'b'), (2, 'c')]\n"
          ]
        }
      ]
    },
    {
      "cell_type": "code",
      "metadata": {
        "colab": {
          "base_uri": "https://localhost:8080/"
        },
        "id": "98354b1c",
        "outputId": "0595a818-e5ab-47ca-e65c-013a68aa006d"
      },
      "source": [
        "# 9. Write a Python program that uses `map()` to convert a list of temperatures from Celsius to Fahrenheit.\n",
        "def celsius_to_fahrenheit(celsius):\n",
        "  \"\"\"Converts Celsius to Fahrenheit.\"\"\"\n",
        "  return (celsius * 9/5) + 32\n",
        "\n",
        "# List of temperatures in Celsius\n",
        "celsius_temperatures = [0, 10, 20, 30, 40]\n",
        "\n",
        "# Use map() to convert Celsius to Fahrenheit\n",
        "fahrenheit_temperatures = list(map(celsius_to_fahrenheit, celsius_temperatures))\n",
        "\n",
        "print(\"Celsius temperatures:\", celsius_temperatures)\n",
        "print(\"Fahrenheit temperatures:\", fahrenheit_temperatures)"
      ],
      "execution_count": 20,
      "outputs": [
        {
          "output_type": "stream",
          "name": "stdout",
          "text": [
            "Celsius temperatures: [0, 10, 20, 30, 40]\n",
            "Fahrenheit temperatures: [32.0, 50.0, 68.0, 86.0, 104.0]\n"
          ]
        }
      ]
    },
    {
      "cell_type": "code",
      "metadata": {
        "colab": {
          "base_uri": "https://localhost:8080/"
        },
        "id": "2e64c98c",
        "outputId": "ce39c1f1-872f-42c8-c266-a425d25dab1f"
      },
      "source": [
        "# 11) Imagine an accounting routine used in a book shop. It works on a list with sublists, which look like this:\n",
        "orders = [\n",
        "    [34587, \"learning python, mark lutz\", 4, 24.95],\n",
        "    [987620, \"programming python ,mark lutz\", 5, 56.82],\n",
        "    [77226, \"head first python , paul barry\", 3, 32.95],\n",
        "    [88112, \"enifuhrung in python3, bernd klein\", 3, 24.99]\n",
        "]\n",
        "\n",
        "# Write a Python program, which returns a list with 2-tuples. Each tuple consists of the order number and the\n",
        "# product of the price per item and the quantity. The product should be increased by 10,- € if the value of the\n",
        "# order is smaller than 100,00 €.\n",
        "# Write a Python program using lambda and map.\n",
        "\n",
        "processed_orders = list(map(lambda order: (order[0], (order[2] * order[3]) + (10 if (order[2] * order[3]) < 100 else 0)), orders))\n",
        "\n",
        "print(processed_orders)"
      ],
      "execution_count": 23,
      "outputs": [
        {
          "output_type": "stream",
          "name": "stdout",
          "text": [
            "[(34587, 109.8), (987620, 284.1), (77226, 108.85000000000001), (88112, 84.97)]\n"
          ]
        }
      ]
    }
  ]
}